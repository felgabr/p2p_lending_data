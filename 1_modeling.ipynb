{
 "cells": [
  {
   "cell_type": "markdown",
   "metadata": {},
   "source": [
    "# Model Development"
   ]
  },
  {
   "cell_type": "markdown",
   "metadata": {},
   "source": [
    "### Table of Contents\n",
    "\n",
    "* [0.0 Pre-Processing](#prep)\n",
    "    * [0.1 Split Train-Test](#split)\n",
    "    * [0.2 Categorical Variables Handling](#cat_hand)\n",
    "* [1.0 Diagnosis](#diag)\n",
    "* [2.0 Feature Selection](#feat_selec)\n",
    "    * [2.1 Low Variance Filter](#variance)\n",
    "    * [2.2 Wrapper Method](#wrapper)\n",
    "    * [2.3 Checking Multicollinearity](#check_multi)\n",
    "* [3.0 Training](#training)\n",
    "    * [3.1 Hyperparameter Tuning](#hyper)\n",
    "    * [3.2 Optimized Model](#model)\n",
    "    * [3.3 Evaluating](#eval) \n",
    "    * [3.4 Calibration](#calibration)\n",
    "    * [3.5 Re-evaluating](#reeval)\n",
    "    * [3.6 Scoring](#scoring)\n",
    "* [4.0 Metrics](#metrics)\n",
    "    * [4.1 Interpretability](#shap)\n",
    "* [Output](#output) "
   ]
  },
  {
   "cell_type": "code",
   "execution_count": 60,
   "metadata": {},
   "outputs": [
    {
     "name": "stdout",
     "output_type": "stream",
     "text": [
      "The autoreload extension is already loaded. To reload it, use:\n",
      "  %reload_ext autoreload\n"
     ]
    }
   ],
   "source": [
    "# Reload .py auxiliary file\n",
    "%load_ext autoreload\n",
    "%autoreload 2\n",
    "\n",
    "# Imports\n",
    "import matplotlib.pyplot as plt\n",
    "import math\n",
    "import numpy as np\n",
    "import pandas as pd\n",
    "import pickle\n",
    "import project_utils as pu\n",
    "import shap\n",
    "import warnings\n",
    "from BorutaShap import BorutaShap\n",
    "from category_encoders.target_encoder import TargetEncoder\n",
    "from hyperopt import fmin, hp, STATUS_OK, tpe, Trials\n",
    "from sklearn.calibration import CalibratedClassifierCV\n",
    "from sklearn.ensemble import RandomForestClassifier\n",
    "from sklearn.metrics import accuracy_score\n",
    "from sklearn.model_selection import cross_val_score\n",
    "from xgboost import XGBClassifier\n",
    "\n",
    "# Options\n",
    "%matplotlib inline\n",
    "pd.pandas.set_option('display.max_columns', None)\n",
    "warnings.filterwarnings('ignore')"
   ]
  },
  {
   "cell_type": "code",
   "execution_count": 4,
   "metadata": {},
   "outputs": [],
   "source": [
    "# Load the cleaned dataset into a pandas dataframe\n",
    "df = pd.read_csv('./output/p2p_cleaned.csv', encoding='utf-8')"
   ]
  },
  {
   "cell_type": "markdown",
   "metadata": {},
   "source": [
    "## 0.0 Pre-Processing <a class=\"anchor\" id=\"prep\"></a>"
   ]
  },
  {
   "cell_type": "markdown",
   "metadata": {},
   "source": [
    "### 0.1 Split Train-Test <a class=\"anchor\" id=\"split\"></a>"
   ]
  },
  {
   "cell_type": "code",
   "execution_count": 7,
   "metadata": {},
   "outputs": [],
   "source": [
    "# Divide the data in train and test sets, with the test_set having the last 5% of the data (newest)\n",
    "X_train, X_test, y_train, y_test = pu.train_test_split_sorted(X=df.drop(['target', 'issue_d'], axis=1),\n",
    "                                                              y=df['target'],\n",
    "                                                              test_size=0.05,\n",
    "                                                              dates=df['issue_d'])"
   ]
  },
  {
   "cell_type": "markdown",
   "metadata": {},
   "source": [
    "### 0.2 Categorical Variables Handling <a class=\"anchor\" id=\"cat_hand\"></a>"
   ]
  },
  {
   "cell_type": "code",
   "execution_count": 8,
   "metadata": {},
   "outputs": [],
   "source": [
    "# List of categorical features to be encoded\n",
    "#cat_columns = list(df.select_dtypes('object').columns)\n",
    "\n",
    "# Target Encoder object with regularization\n",
    "encoder = TargetEncoder(smoothing=10)\n",
    "\n",
    "# Transforming the features after fitting\n",
    "X_train = encoder.fit_transform(X=X_train, y=y_train)\n",
    "\n",
    "# Enconding test set\n",
    "X_test = encoder.transform(X_test)"
   ]
  },
  {
   "cell_type": "markdown",
   "metadata": {},
   "source": [
    "## 1.0 Diagnosis <a class=\"anchor\" id=\"diag\"></a>"
   ]
  },
  {
   "cell_type": "markdown",
   "metadata": {},
   "source": [
    "### Random Forest"
   ]
  },
  {
   "cell_type": "code",
   "execution_count": 187,
   "metadata": {},
   "outputs": [
    {
     "data": {
      "image/png": "[encoded data removed]",
      "text/plain": [
       "<Figure size 432x288 with 1 Axes>"
      ]
     },
     "metadata": {
      "needs_background": "light"
     },
     "output_type": "display_data"
    },
    {
     "name": "stdout",
     "output_type": "stream",
     "text": [
      "Wall time: 3h 20min 42s\n"
     ]
    }
   ],
   "source": [
    "%%time\n",
    "\n",
    "# Plot Validation Curve using RF as estimator\n",
    "pu.plot_validation_curve(estimator=RandomForestClassifier(random_state=13),\n",
    "                         dataframe=X_train,\n",
    "                         target=y_train,\n",
    "                         param_name=\"max_depth\",\n",
    "                         param_range=list(range(1, 21)),\n",
    "                         cv=3,\n",
    "                         scoring=None,\n",
    "                         n_jobs=-1,\n",
    "                         save_dir='./output/rf_validation_curve.png')"
   ]
  },
  {
   "cell_type": "markdown",
   "metadata": {},
   "source": [
    "Following the plot above, even though the large uncertainty light gray area on the test score, it is possible to know a good start region of optimization for max_depth - around 10, because from there the roc-auc doesn't increase) "
   ]
  },
  {
   "cell_type": "code",
   "execution_count": 189,
   "metadata": {},
   "outputs": [
    {
     "data": {
      "image/png": "[encoded data removed]",
      "text/plain": [
       "<Figure size 432x288 with 1 Axes>"
      ]
     },
     "metadata": {
      "needs_background": "light"
     },
     "output_type": "display_data"
    },
    {
     "name": "stdout",
     "output_type": "stream",
     "text": [
      "Wall time: 47min 23s\n"
     ]
    }
   ],
   "source": [
    "%%time\n",
    "\n",
    "# Plot Learning Curve using RF as estimator\n",
    "pu.plot_learning_curve(estimator=RandomForestClassifier(max_depth=10, random_state=13),\n",
    "                       dataframe=X_train,\n",
    "                       target=y_train,\n",
    "                       train_sizes=np.linspace(0.05, 1.0, 10),\n",
    "                       cv=3,\n",
    "                       scoring=None,\n",
    "                       n_jobs=-1,\n",
    "                       save_dir='./output/rf_learning_curve.png')"
   ]
  },
  {
   "cell_type": "code",
   "execution_count": null,
   "metadata": {},
   "outputs": [],
   "source": [
    "# Comments"
   ]
  },
  {
   "cell_type": "markdown",
   "metadata": {},
   "source": [
    "### XGBoost"
   ]
  },
  {
   "cell_type": "code",
   "execution_count": 228,
   "metadata": {},
   "outputs": [
    {
     "data": {
      "image/png": "[encoded data removed]",
      "text/plain": [
       "<Figure size 432x288 with 1 Axes>"
      ]
     },
     "metadata": {
      "needs_background": "light"
     },
     "output_type": "display_data"
    },
    {
     "name": "stdout",
     "output_type": "stream",
     "text": [
      "Wall time: 6h 11min 41s\n"
     ]
    }
   ],
   "source": [
    "%%time\n",
    "\n",
    "# Plot Validation Curve using XGB as estimator\n",
    "pu.plot_validation_curve(estimator=XGBClassifier(random_state=13),\n",
    "                         dataframe=X_train,\n",
    "                         target=y_train,\n",
    "                         param_name=\"max_depth\",\n",
    "                         param_range=list(range(1, 16)),\n",
    "                         cv=3,\n",
    "                         scoring=None,\n",
    "                         n_jobs=-1,\n",
    "                         save_dir='./output/xgboost_validation_curve.png')"
   ]
  },
  {
   "cell_type": "code",
   "execution_count": null,
   "metadata": {},
   "outputs": [],
   "source": [
    "# Comments"
   ]
  },
  {
   "cell_type": "code",
   "execution_count": 190,
   "metadata": {},
   "outputs": [
    {
     "data": {
      "image/png": "[encoded data removed]",
      "text/plain": [
       "<Figure size 432x288 with 1 Axes>"
      ]
     },
     "metadata": {
      "needs_background": "light"
     },
     "output_type": "display_data"
    },
    {
     "name": "stdout",
     "output_type": "stream",
     "text": [
      "Wall time: 25min 27s\n"
     ]
    }
   ],
   "source": [
    "%%time\n",
    "\n",
    "# Plot Learning Curve using XGB as estimator\n",
    "pu.plot_learning_curve(estimator=XGBClassifier(max_depth=2, random_state=13),\n",
    "                       dataframe=X_train,\n",
    "                       target=y_train,\n",
    "                       train_sizes=np.linspace(0.05, 1.0, 10),\n",
    "                       cv=3,\n",
    "                       scoring=None,\n",
    "                       n_jobs=-1,\n",
    "                       save_dir='./output/xgboost_learning_curve.png')"
   ]
  },
  {
   "cell_type": "code",
   "execution_count": null,
   "metadata": {},
   "outputs": [],
   "source": [
    "# Comments"
   ]
  },
  {
   "cell_type": "markdown",
   "metadata": {},
   "source": [
    "## 2.0 Feature Selection <a class=\"anchor\" id=\"feat_selec\"></a>"
   ]
  },
  {
   "cell_type": "markdown",
   "metadata": {},
   "source": [
    "### 2.1 Low Variance Filter <a class=\"anchor\" id=\"variance\"></a>"
   ]
  },
  {
   "cell_type": "code",
   "execution_count": 5,
   "metadata": {},
   "outputs": [
    {
     "name": "stdout",
     "output_type": "stream",
     "text": [
      "Finding low-variance features.\n",
      "Found 12 low-variance columns.\n",
      "Removing low-variance features.\n",
      "Reassembling the dataframe (with low-variance features removed).\n",
      "Succesfully removed low-variance columns.\n"
     ]
    }
   ],
   "source": [
    "# Removes all features whose variance doesn’t meet the threshold\n",
    "X_train, rmvd_feat = pu.get_low_variance_columns(dframe=X_train,\n",
    "                                                 thresh=0.005,\n",
    "                                                 autoremove=True)"
   ]
  },
  {
   "cell_type": "code",
   "execution_count": 6,
   "metadata": {},
   "outputs": [
    {
     "name": "stdout",
     "output_type": "stream",
     "text": [
      "['application_type', 'disbursement_method', 'emp_length', 'hardship_flag', 'home_ownership', 'initial_list_status', 'num_tl_120dpd_2m', 'num_tl_30dpd', 'policy_code', 'purpose', 'pymnt_plan', 'verification_status']\n"
     ]
    }
   ],
   "source": [
    "# low-variance features\n",
    "print(rmvd_feat)"
   ]
  },
  {
   "cell_type": "markdown",
   "metadata": {},
   "source": [
    "### 2.2 Wrapper Method <a class=\"anchor\" id=\"wrapper\"></a>"
   ]
  },
  {
   "cell_type": "code",
   "execution_count": 12,
   "metadata": {},
   "outputs": [
    {
     "name": "stderr",
     "output_type": "stream",
     "text": [
      "100%|█████████████████████████████████████████████████████████████████████████████| 25/25 [32:11:36<00:00, 4635.85s/it]"
     ]
    },
    {
     "name": "stdout",
     "output_type": "stream",
     "text": [
      "27 attributes confirmed important: ['fico_range_high', 'fico_range_low', 'num_actv_rev_tl', 'dti', 'bc_open_to_buy', 'mort_acc', 'int_rate', 'revol_util', 'total_bc_limit', 'total_rev_hi_lim', 'term', 'mo_sin_old_il_acct', 'tot_hi_cred_lim', 'total_acc', 'installment', 'mths_since_recent_bc', 'tot_cur_bal', 'mo_sin_old_rev_tl_op', 'inq_last_6mths', 'num_il_tl', 'avg_cur_bal', 'loan_amnt', 'bc_util', 'funded_amnt_inv', 'mths_since_earliest_cr_line', 'funded_amnt', 'annual_inc']\n",
      "29 attributes confirmed unimportant: ['acc_now_delinq', 'mths_since_recent_inq', 'total_il_high_credit_limit', 'pub_rec_bankruptcies', 'delinq_amnt', 'num_tl_op_past_12m', 'acc_open_past_24mths', 'chargeoff_within_12_mths', 'num_rev_accts', 'pct_tl_nvr_dlq', 'num_op_rev_tl', 'total_bal_ex_mort', 'collections_12_mths_ex_med', 'open_acc', 'num_tl_90g_dpd_24m', 'pub_rec', 'num_bc_sats', 'num_accts_ever_120_pd', 'num_actv_bc_tl', 'num_sats', 'num_bc_tl', 'tax_liens', 'percent_bc_gt_75', 'mo_sin_rcnt_tl', 'mths_since_last_delinq', 'mo_sin_rcnt_rev_tl_op', 'revol_bal', 'tot_coll_amt', 'delinq_2yrs']\n",
      "1 tentative attributes remains: ['num_rev_tl_bal_gt_0']\n"
     ]
    },
    {
     "name": "stderr",
     "output_type": "stream",
     "text": [
      "\n"
     ]
    }
   ],
   "source": [
    "# Feature selector instance\n",
    "feature_selector = BorutaShap(model=RandomForestClassifier(random_state=13),\n",
    "                              importance_measure='shap',\n",
    "                              classification=True)\n",
    "\n",
    "feature_selector.fit(X=X_train[-20000:],\n",
    "                     y=y_train[-20000:],\n",
    "                     n_trials=25,\n",
    "                     sample=False,\n",
    "                     train_or_test = 'test',\n",
    "                     normalize=True,\n",
    "                     verbose=True)"
   ]
  },
  {
   "cell_type": "code",
   "execution_count": 13,
   "metadata": {},
   "outputs": [
    {
     "data": {
      "image/png": "[encoded data removed]",
      "text/plain": [
       "<Figure size 864x576 with 1 Axes>"
      ]
     },
     "metadata": {
      "needs_background": "light"
     },
     "output_type": "display_data"
    }
   ],
   "source": [
    "# Returns Boxplot of features\n",
    "feature_selector.plot(which_features='all')"
   ]
  },
  {
   "cell_type": "code",
   "execution_count": 28,
   "metadata": {},
   "outputs": [],
   "source": [
    "# Returns a subset of the original data with the selected features\n",
    "X_train_subset = feature_selector.Subset()\n",
    "\n",
    "# Get a list of important features\n",
    "important_feat = list(X_train_subset.columns)"
   ]
  },
  {
   "cell_type": "code",
   "execution_count": 9,
   "metadata": {},
   "outputs": [],
   "source": [
    "important_feat = ['fico_range_high', 'fico_range_low', 'num_actv_rev_tl', 'dti', 'bc_open_to_buy',\n",
    "                  'mort_acc', 'int_rate', 'revol_util', 'total_bc_limit', 'total_rev_hi_lim', 'term',\n",
    "                  'mo_sin_old_il_acct', 'tot_hi_cred_lim', 'total_acc', 'installment', 'mths_since_recent_bc',\n",
    "                  'tot_cur_bal', 'mo_sin_old_rev_tl_op', 'inq_last_6mths', 'num_il_tl', 'avg_cur_bal',\n",
    "                  'loan_amnt', 'bc_util', 'funded_amnt_inv', 'mths_since_earliest_cr_line', 'funded_amnt', 'annual_inc']"
   ]
  },
  {
   "cell_type": "markdown",
   "metadata": {},
   "source": [
    "### 2.3 Checking Multicollinearity <a class=\"anchor\" id=\"check_multi\"></a>"
   ]
  },
  {
   "cell_type": "markdown",
   "metadata": {},
   "source": [
    "Multicollinearity does not affect the result (prediction) in non-linear models such as tree-based models like RF and XGB, although it may have some bad effects in feature extraction for further analysis, it makes the coefficients (feature importances) unstable and incorrect.\n",
    "\n",
    "Random Forest will keep them (correlated features) both, because they build the tree independently and random select the feature for every trees.\n",
    "XGBoost, will choose anyone of them (correlated features) and use it until the last tree build."
   ]
  },
  {
   "cell_type": "code",
   "execution_count": 10,
   "metadata": {},
   "outputs": [
    {
     "data": {
      "text/html": [
       "<div>\n",
       "<style scoped>\n",
       "    .dataframe tbody tr th:only-of-type {\n",
       "        vertical-align: middle;\n",
       "    }\n",
       "\n",
       "    .dataframe tbody tr th {\n",
       "        vertical-align: top;\n",
       "    }\n",
       "\n",
       "    .dataframe thead th {\n",
       "        text-align: right;\n",
       "    }\n",
       "</style>\n",
       "<table border=\"1\" class=\"dataframe\">\n",
       "  <thead>\n",
       "    <tr style=\"text-align: right;\">\n",
       "      <th></th>\n",
       "      <th>VIF</th>\n",
       "      <th>Tolerance</th>\n",
       "    </tr>\n",
       "  </thead>\n",
       "  <tbody>\n",
       "    <tr>\n",
       "      <th>fico_range_high</th>\n",
       "      <td>7615863.2</td>\n",
       "      <td>0.0</td>\n",
       "    </tr>\n",
       "    <tr>\n",
       "      <th>fico_range_low</th>\n",
       "      <td>7615873.4</td>\n",
       "      <td>0.0</td>\n",
       "    </tr>\n",
       "    <tr>\n",
       "      <th>num_actv_rev_tl</th>\n",
       "      <td>1.9</td>\n",
       "      <td>0.5</td>\n",
       "    </tr>\n",
       "    <tr>\n",
       "      <th>dti</th>\n",
       "      <td>1.2</td>\n",
       "      <td>0.8</td>\n",
       "    </tr>\n",
       "    <tr>\n",
       "      <th>bc_open_to_buy</th>\n",
       "      <td>6.3</td>\n",
       "      <td>0.2</td>\n",
       "    </tr>\n",
       "    <tr>\n",
       "      <th>mort_acc</th>\n",
       "      <td>1.8</td>\n",
       "      <td>0.6</td>\n",
       "    </tr>\n",
       "    <tr>\n",
       "      <th>int_rate</th>\n",
       "      <td>2.8</td>\n",
       "      <td>0.4</td>\n",
       "    </tr>\n",
       "    <tr>\n",
       "      <th>revol_util</th>\n",
       "      <td>2.9</td>\n",
       "      <td>0.3</td>\n",
       "    </tr>\n",
       "    <tr>\n",
       "      <th>total_bc_limit</th>\n",
       "      <td>6.8</td>\n",
       "      <td>0.1</td>\n",
       "    </tr>\n",
       "    <tr>\n",
       "      <th>total_rev_hi_lim</th>\n",
       "      <td>2.5</td>\n",
       "      <td>0.4</td>\n",
       "    </tr>\n",
       "    <tr>\n",
       "      <th>term</th>\n",
       "      <td>7.1</td>\n",
       "      <td>0.1</td>\n",
       "    </tr>\n",
       "    <tr>\n",
       "      <th>mo_sin_old_il_acct</th>\n",
       "      <td>1.6</td>\n",
       "      <td>0.6</td>\n",
       "    </tr>\n",
       "    <tr>\n",
       "      <th>tot_hi_cred_lim</th>\n",
       "      <td>26.2</td>\n",
       "      <td>0.0</td>\n",
       "    </tr>\n",
       "    <tr>\n",
       "      <th>total_acc</th>\n",
       "      <td>3.2</td>\n",
       "      <td>0.3</td>\n",
       "    </tr>\n",
       "    <tr>\n",
       "      <th>installment</th>\n",
       "      <td>57.3</td>\n",
       "      <td>0.0</td>\n",
       "    </tr>\n",
       "    <tr>\n",
       "      <th>mths_since_recent_bc</th>\n",
       "      <td>1.2</td>\n",
       "      <td>0.9</td>\n",
       "    </tr>\n",
       "    <tr>\n",
       "      <th>tot_cur_bal</th>\n",
       "      <td>28.3</td>\n",
       "      <td>0.0</td>\n",
       "    </tr>\n",
       "    <tr>\n",
       "      <th>mo_sin_old_rev_tl_op</th>\n",
       "      <td>4.6</td>\n",
       "      <td>0.2</td>\n",
       "    </tr>\n",
       "    <tr>\n",
       "      <th>inq_last_6mths</th>\n",
       "      <td>1.1</td>\n",
       "      <td>0.9</td>\n",
       "    </tr>\n",
       "    <tr>\n",
       "      <th>num_il_tl</th>\n",
       "      <td>2.7</td>\n",
       "      <td>0.4</td>\n",
       "    </tr>\n",
       "    <tr>\n",
       "      <th>avg_cur_bal</th>\n",
       "      <td>4.8</td>\n",
       "      <td>0.2</td>\n",
       "    </tr>\n",
       "    <tr>\n",
       "      <th>loan_amnt</th>\n",
       "      <td>1090.9</td>\n",
       "      <td>0.0</td>\n",
       "    </tr>\n",
       "    <tr>\n",
       "      <th>bc_util</th>\n",
       "      <td>3.1</td>\n",
       "      <td>0.3</td>\n",
       "    </tr>\n",
       "    <tr>\n",
       "      <th>funded_amnt_inv</th>\n",
       "      <td>534.3</td>\n",
       "      <td>0.0</td>\n",
       "    </tr>\n",
       "    <tr>\n",
       "      <th>mths_since_earliest_cr_line</th>\n",
       "      <td>4.4</td>\n",
       "      <td>0.2</td>\n",
       "    </tr>\n",
       "    <tr>\n",
       "      <th>funded_amnt</th>\n",
       "      <td>1750.7</td>\n",
       "      <td>0.0</td>\n",
       "    </tr>\n",
       "    <tr>\n",
       "      <th>annual_inc</th>\n",
       "      <td>1.3</td>\n",
       "      <td>0.8</td>\n",
       "    </tr>\n",
       "  </tbody>\n",
       "</table>\n",
       "</div>"
      ],
      "text/plain": [
       "                                   VIF Tolerance\n",
       "fico_range_high              7615863.2       0.0\n",
       "fico_range_low               7615873.4       0.0\n",
       "num_actv_rev_tl                    1.9       0.5\n",
       "dti                                1.2       0.8\n",
       "bc_open_to_buy                     6.3       0.2\n",
       "mort_acc                           1.8       0.6\n",
       "int_rate                           2.8       0.4\n",
       "revol_util                         2.9       0.3\n",
       "total_bc_limit                     6.8       0.1\n",
       "total_rev_hi_lim                   2.5       0.4\n",
       "term                               7.1       0.1\n",
       "mo_sin_old_il_acct                 1.6       0.6\n",
       "tot_hi_cred_lim                   26.2       0.0\n",
       "total_acc                          3.2       0.3\n",
       "installment                       57.3       0.0\n",
       "mths_since_recent_bc               1.2       0.9\n",
       "tot_cur_bal                       28.3       0.0\n",
       "mo_sin_old_rev_tl_op               4.6       0.2\n",
       "inq_last_6mths                     1.1       0.9\n",
       "num_il_tl                          2.7       0.4\n",
       "avg_cur_bal                        4.8       0.2\n",
       "loan_amnt                       1090.9       0.0\n",
       "bc_util                            3.1       0.3\n",
       "funded_amnt_inv                  534.3       0.0\n",
       "mths_since_earliest_cr_line        4.4       0.2\n",
       "funded_amnt                     1750.7       0.0\n",
       "annual_inc                         1.3       0.8"
      ]
     },
     "execution_count": 10,
     "metadata": {},
     "output_type": "execute_result"
    }
   ],
   "source": [
    "# Calculates VIF values\n",
    "df_vif = pu.sklearn_vif(exogs=important_feat, data=X_train)\n",
    "\n",
    "# Show VIF values of selected subset\n",
    "df_vif.apply(lambda x: x.apply('{0:.1f}'.format))"
   ]
  },
  {
   "cell_type": "code",
   "execution_count": 11,
   "metadata": {},
   "outputs": [],
   "source": [
    "# Drop correlated features -> VIF greater than 10\n",
    "important_feat.remove('fico_range_high')\n",
    "important_feat.remove('funded_amnt')\n",
    "important_feat.remove('funded_amnt_inv')\n",
    "important_feat.remove('tot_hi_cred_lim')\n",
    "important_feat.remove('installment')"
   ]
  },
  {
   "cell_type": "code",
   "execution_count": 12,
   "metadata": {},
   "outputs": [
    {
     "data": {
      "text/html": [
       "<div>\n",
       "<style scoped>\n",
       "    .dataframe tbody tr th:only-of-type {\n",
       "        vertical-align: middle;\n",
       "    }\n",
       "\n",
       "    .dataframe tbody tr th {\n",
       "        vertical-align: top;\n",
       "    }\n",
       "\n",
       "    .dataframe thead th {\n",
       "        text-align: right;\n",
       "    }\n",
       "</style>\n",
       "<table border=\"1\" class=\"dataframe\">\n",
       "  <thead>\n",
       "    <tr style=\"text-align: right;\">\n",
       "      <th></th>\n",
       "      <th>VIF</th>\n",
       "      <th>Tolerance</th>\n",
       "    </tr>\n",
       "  </thead>\n",
       "  <tbody>\n",
       "    <tr>\n",
       "      <th>fico_range_low</th>\n",
       "      <td>1.8</td>\n",
       "      <td>0.5</td>\n",
       "    </tr>\n",
       "    <tr>\n",
       "      <th>num_actv_rev_tl</th>\n",
       "      <td>1.9</td>\n",
       "      <td>0.5</td>\n",
       "    </tr>\n",
       "    <tr>\n",
       "      <th>dti</th>\n",
       "      <td>1.2</td>\n",
       "      <td>0.8</td>\n",
       "    </tr>\n",
       "    <tr>\n",
       "      <th>bc_open_to_buy</th>\n",
       "      <td>6.2</td>\n",
       "      <td>0.2</td>\n",
       "    </tr>\n",
       "    <tr>\n",
       "      <th>mort_acc</th>\n",
       "      <td>1.8</td>\n",
       "      <td>0.6</td>\n",
       "    </tr>\n",
       "    <tr>\n",
       "      <th>int_rate</th>\n",
       "      <td>1.7</td>\n",
       "      <td>0.6</td>\n",
       "    </tr>\n",
       "    <tr>\n",
       "      <th>revol_util</th>\n",
       "      <td>2.9</td>\n",
       "      <td>0.3</td>\n",
       "    </tr>\n",
       "    <tr>\n",
       "      <th>total_bc_limit</th>\n",
       "      <td>6.8</td>\n",
       "      <td>0.1</td>\n",
       "    </tr>\n",
       "    <tr>\n",
       "      <th>total_rev_hi_lim</th>\n",
       "      <td>2.3</td>\n",
       "      <td>0.4</td>\n",
       "    </tr>\n",
       "    <tr>\n",
       "      <th>term</th>\n",
       "      <td>1.4</td>\n",
       "      <td>0.7</td>\n",
       "    </tr>\n",
       "    <tr>\n",
       "      <th>mo_sin_old_il_acct</th>\n",
       "      <td>1.6</td>\n",
       "      <td>0.6</td>\n",
       "    </tr>\n",
       "    <tr>\n",
       "      <th>total_acc</th>\n",
       "      <td>3.2</td>\n",
       "      <td>0.3</td>\n",
       "    </tr>\n",
       "    <tr>\n",
       "      <th>mths_since_recent_bc</th>\n",
       "      <td>1.2</td>\n",
       "      <td>0.9</td>\n",
       "    </tr>\n",
       "    <tr>\n",
       "      <th>tot_cur_bal</th>\n",
       "      <td>5.9</td>\n",
       "      <td>0.2</td>\n",
       "    </tr>\n",
       "    <tr>\n",
       "      <th>mo_sin_old_rev_tl_op</th>\n",
       "      <td>4.5</td>\n",
       "      <td>0.2</td>\n",
       "    </tr>\n",
       "    <tr>\n",
       "      <th>inq_last_6mths</th>\n",
       "      <td>1.1</td>\n",
       "      <td>0.9</td>\n",
       "    </tr>\n",
       "    <tr>\n",
       "      <th>num_il_tl</th>\n",
       "      <td>2.7</td>\n",
       "      <td>0.4</td>\n",
       "    </tr>\n",
       "    <tr>\n",
       "      <th>avg_cur_bal</th>\n",
       "      <td>4.8</td>\n",
       "      <td>0.2</td>\n",
       "    </tr>\n",
       "    <tr>\n",
       "      <th>loan_amnt</th>\n",
       "      <td>1.6</td>\n",
       "      <td>0.6</td>\n",
       "    </tr>\n",
       "    <tr>\n",
       "      <th>bc_util</th>\n",
       "      <td>3.0</td>\n",
       "      <td>0.3</td>\n",
       "    </tr>\n",
       "    <tr>\n",
       "      <th>mths_since_earliest_cr_line</th>\n",
       "      <td>4.3</td>\n",
       "      <td>0.2</td>\n",
       "    </tr>\n",
       "    <tr>\n",
       "      <th>annual_inc</th>\n",
       "      <td>1.3</td>\n",
       "      <td>0.8</td>\n",
       "    </tr>\n",
       "  </tbody>\n",
       "</table>\n",
       "</div>"
      ],
      "text/plain": [
       "                             VIF Tolerance\n",
       "fico_range_low               1.8       0.5\n",
       "num_actv_rev_tl              1.9       0.5\n",
       "dti                          1.2       0.8\n",
       "bc_open_to_buy               6.2       0.2\n",
       "mort_acc                     1.8       0.6\n",
       "int_rate                     1.7       0.6\n",
       "revol_util                   2.9       0.3\n",
       "total_bc_limit               6.8       0.1\n",
       "total_rev_hi_lim             2.3       0.4\n",
       "term                         1.4       0.7\n",
       "mo_sin_old_il_acct           1.6       0.6\n",
       "total_acc                    3.2       0.3\n",
       "mths_since_recent_bc         1.2       0.9\n",
       "tot_cur_bal                  5.9       0.2\n",
       "mo_sin_old_rev_tl_op         4.5       0.2\n",
       "inq_last_6mths               1.1       0.9\n",
       "num_il_tl                    2.7       0.4\n",
       "avg_cur_bal                  4.8       0.2\n",
       "loan_amnt                    1.6       0.6\n",
       "bc_util                      3.0       0.3\n",
       "mths_since_earliest_cr_line  4.3       0.2\n",
       "annual_inc                   1.3       0.8"
      ]
     },
     "execution_count": 12,
     "metadata": {},
     "output_type": "execute_result"
    }
   ],
   "source": [
    "# Calculates VIF values\n",
    "df_vif = pu.sklearn_vif(exogs=important_feat, data=X_train)\n",
    "\n",
    "# Show VIF values of selected subset\n",
    "df_vif.apply(lambda x: x.apply('{0:.1f}'.format))"
   ]
  },
  {
   "cell_type": "code",
   "execution_count": 13,
   "metadata": {},
   "outputs": [],
   "source": [
    "# Filter dataset with selected features\n",
    "X_train_subset = X_train[list(df_vif.index.values)]\n",
    "X_test_subset = X_test[list(df_vif.index.values)]"
   ]
  },
  {
   "cell_type": "markdown",
   "metadata": {},
   "source": [
    "## 3.0 Training <a class=\"anchor\" id=\"training\"></a>"
   ]
  },
  {
   "cell_type": "markdown",
   "metadata": {},
   "source": [
    "### 3.1 Hyperparameter Tuning <a class=\"anchor\" id=\"hyper\"></a>"
   ]
  },
  {
   "cell_type": "code",
   "execution_count": 142,
   "metadata": {},
   "outputs": [],
   "source": [
    "# Defines the range of input values to test \n",
    "# In Bayesian Optimization this space creates a probability distribution for each of the used Hyperparameters\n",
    "space = {'max_depth': hp.choice('max_depth', range(5, 15, 1)),\n",
    "         'max_features': hp.pchoice('max_features', [(0.5, 'sqrt'), # most common choice\n",
    "                                                     (0.4, 'log2'), # less common choice\n",
    "                                                     (0.1, None)]), # rare choice\n",
    "         'min_samples_leaf': hp.quniform ('min_samples_leaf', 1, 5, 1),\n",
    "         'min_samples_split' : hp.quniform ('min_samples_split', 2, 12, 1),\n",
    "         'n_estimators' : hp.choice('n_estimators', range(10, 510, 10))}"
   ]
  },
  {
   "cell_type": "code",
   "execution_count": 143,
   "metadata": {},
   "outputs": [],
   "source": [
    "# Defines the loss function to minimize\n",
    "def objective(space):\n",
    "    # instantiate the algorithm\n",
    "    rf_classifier = RandomForestClassifier(n_estimators=int(space['n_estimators']),\n",
    "                                           max_depth=int(space['max_depth']),\n",
    "                                           max_features=space['max_features'],\n",
    "                                           min_samples_split=int(space['min_samples_split']),\n",
    "                                           min_samples_leaf=int(space['min_samples_leaf']),\n",
    "                                           class_weight='balanced')\n",
    "    \n",
    "    #print(classifier)\n",
    "    # Use Cross validation to compute score\n",
    "    cv_score = cross_val_score(estimator=rf_classifier,\n",
    "                               X=X_train_subset[-300000:],\n",
    "                               y=y_train[-300000:],\n",
    "                               cv=3,\n",
    "                               scoring='roc_auc',\n",
    "                               n_jobs=-1,\n",
    "                               error_score='raise')\n",
    "    \n",
    "    # Calculate roc_auc mean on the folds\n",
    "    mean_cv_score = cv_score.mean()\n",
    "    \n",
    "    #print('Cross Validate Mean:', mean_cv_score)\n",
    "    \n",
    "    return {'loss': 1-mean_cv_score, 'status': STATUS_OK}"
   ]
  },
  {
   "cell_type": "code",
   "execution_count": 144,
   "metadata": {},
   "outputs": [
    {
     "name": "stdout",
     "output_type": "stream",
     "text": [
      "100%|█████████████████████████████████████████████| 70/70 [4:58:20<00:00, 255.73s/trial, best loss: 0.2941493688543817]\n"
     ]
    }
   ],
   "source": [
    "# Defines the search algorithm to use, to select the best input values in each new iteration\n",
    "trials = Trials()\n",
    "best = fmin(fn=objective,\n",
    "            space=space,\n",
    "            algo=tpe.suggest,\n",
    "            max_evals=70,\n",
    "            trials=trials,\n",
    "            rstate=np.random.default_rng(13),\n",
    "            return_argmin=True # set false to get the real value instead of index\n",
    "           )"
   ]
  },
  {
   "cell_type": "markdown",
   "metadata": {},
   "source": [
    "### 3.2 Optimized Model <a class=\"anchor\" id=\"model\"></a>"
   ]
  },
  {
   "cell_type": "code",
   "execution_count": 230,
   "metadata": {},
   "outputs": [
    {
     "name": "stdout",
     "output_type": "stream",
     "text": [
      "Wall time: 3min 13s\n"
     ]
    },
    {
     "data": {
      "text/plain": [
       "RandomForestClassifier(class_weight='balanced', max_depth=12,\n",
       "                       max_features='sqrt', min_samples_leaf=5,\n",
       "                       min_samples_split=11, n_estimators=470, n_jobs=-1,\n",
       "                       random_state=13)"
      ]
     },
     "execution_count": 230,
     "metadata": {},
     "output_type": "execute_result"
    }
   ],
   "source": [
    "%%time\n",
    "\n",
    "# Training a Random Forest with optimized hyperparameters\n",
    "model = RandomForestClassifier(n_estimators=range(10, 510, 10)[best['n_estimators']],\n",
    "                               max_depth=range(5, 15, 1)[best['max_depth']],\n",
    "                               max_features=['sqrt', 'log2', None][best['max_features']],\n",
    "                               min_samples_split=int(best['min_samples_split']),\n",
    "                               min_samples_leaf=int(best['min_samples_leaf']),\n",
    "                               class_weight='balanced',\n",
    "                               n_jobs=-1,\n",
    "                               random_state=13)\n",
    "\n",
    "model.fit(X_train_subset[-300000:], y_train[-300000:])"
   ]
  },
  {
   "cell_type": "code",
   "execution_count": 5,
   "metadata": {},
   "outputs": [],
   "source": [
    "with open('./output/rf_model_pkl.sav', 'rb') as file:\n",
    "    model = pickle.load(file)"
   ]
  },
  {
   "cell_type": "markdown",
   "metadata": {},
   "source": [
    "### 3.3 Evaluating <a class=\"anchor\" id=\"eval\"></a>"
   ]
  },
  {
   "cell_type": "code",
   "execution_count": 14,
   "metadata": {},
   "outputs": [
    {
     "name": "stdout",
     "output_type": "stream",
     "text": [
      "Wall time: 15.5 s\n"
     ]
    }
   ],
   "source": [
    "%%time\n",
    "\n",
    "# Classifies the data used in training\n",
    "y_train_pred = model.predict(X_train_subset[-300000:])\n",
    "\n",
    "# Classifies the test dataset\n",
    "y_test_pred = model.predict(X_test_subset)"
   ]
  },
  {
   "cell_type": "code",
   "execution_count": 15,
   "metadata": {},
   "outputs": [
    {
     "name": "stdout",
     "output_type": "stream",
     "text": [
      "Train Accuracy: 70.53%\n",
      "Test Accuracy: 68.57%\n"
     ]
    }
   ],
   "source": [
    "# Calculate the model accuracy in training\n",
    "train_accuracy = round(accuracy_score(y_train[-300000:], y_train_pred) * 100, 2)\n",
    "\n",
    "# Calculate the model accuracy in test\n",
    "test_accuracy = round(accuracy_score(y_test, y_test_pred) * 100, 2)\n",
    "\n",
    "print('Train Accuracy: ' + str(train_accuracy) + '%')\n",
    "print('Test Accuracy: ' + str(test_accuracy) + '%')"
   ]
  },
  {
   "cell_type": "code",
   "execution_count": 249,
   "metadata": {},
   "outputs": [
    {
     "data": {
      "text/html": [
       "<div>\n",
       "<style scoped>\n",
       "    .dataframe tbody tr th:only-of-type {\n",
       "        vertical-align: middle;\n",
       "    }\n",
       "\n",
       "    .dataframe tbody tr th {\n",
       "        vertical-align: top;\n",
       "    }\n",
       "\n",
       "    .dataframe thead th {\n",
       "        text-align: right;\n",
       "    }\n",
       "</style>\n",
       "<table border=\"1\" class=\"dataframe\">\n",
       "  <thead>\n",
       "    <tr style=\"text-align: right;\">\n",
       "      <th></th>\n",
       "      <th>precision</th>\n",
       "      <th>recall</th>\n",
       "      <th>f1-score</th>\n",
       "      <th>support</th>\n",
       "    </tr>\n",
       "  </thead>\n",
       "  <tbody>\n",
       "    <tr>\n",
       "      <th>Unpaid</th>\n",
       "      <td>0.43</td>\n",
       "      <td>0.72</td>\n",
       "      <td>0.54</td>\n",
       "      <td>72142.00</td>\n",
       "    </tr>\n",
       "    <tr>\n",
       "      <th>Paid</th>\n",
       "      <td>0.89</td>\n",
       "      <td>0.70</td>\n",
       "      <td>0.78</td>\n",
       "      <td>227858.00</td>\n",
       "    </tr>\n",
       "    <tr>\n",
       "      <th>accuracy</th>\n",
       "      <td>0.71</td>\n",
       "      <td>0.71</td>\n",
       "      <td>0.71</td>\n",
       "      <td>0.71</td>\n",
       "    </tr>\n",
       "    <tr>\n",
       "      <th>macro avg</th>\n",
       "      <td>0.66</td>\n",
       "      <td>0.71</td>\n",
       "      <td>0.66</td>\n",
       "      <td>300000.00</td>\n",
       "    </tr>\n",
       "    <tr>\n",
       "      <th>weighted avg</th>\n",
       "      <td>0.78</td>\n",
       "      <td>0.71</td>\n",
       "      <td>0.72</td>\n",
       "      <td>300000.00</td>\n",
       "    </tr>\n",
       "  </tbody>\n",
       "</table>\n",
       "</div>"
      ],
      "text/plain": [
       "             precision recall f1-score    support\n",
       "Unpaid            0.43   0.72     0.54   72142.00\n",
       "Paid              0.89   0.70     0.78  227858.00\n",
       "accuracy          0.71   0.71     0.71       0.71\n",
       "macro avg         0.66   0.71     0.66  300000.00\n",
       "weighted avg      0.78   0.71     0.72  300000.00"
      ]
     },
     "execution_count": 249,
     "metadata": {},
     "output_type": "execute_result"
    }
   ],
   "source": [
    "# Get precision, recall, f1-score and support for train dataset\n",
    "pu.classification_report_df(y_train[-300000:], y_train_pred, target_names=['Unpaid', 'Paid'])"
   ]
  },
  {
   "cell_type": "code",
   "execution_count": 250,
   "metadata": {},
   "outputs": [
    {
     "data": {
      "text/html": [
       "<div>\n",
       "<style scoped>\n",
       "    .dataframe tbody tr th:only-of-type {\n",
       "        vertical-align: middle;\n",
       "    }\n",
       "\n",
       "    .dataframe tbody tr th {\n",
       "        vertical-align: top;\n",
       "    }\n",
       "\n",
       "    .dataframe thead th {\n",
       "        text-align: right;\n",
       "    }\n",
       "</style>\n",
       "<table border=\"1\" class=\"dataframe\">\n",
       "  <thead>\n",
       "    <tr style=\"text-align: right;\">\n",
       "      <th></th>\n",
       "      <th>precision</th>\n",
       "      <th>recall</th>\n",
       "      <th>f1-score</th>\n",
       "      <th>support</th>\n",
       "    </tr>\n",
       "  </thead>\n",
       "  <tbody>\n",
       "    <tr>\n",
       "      <th>Unpaid</th>\n",
       "      <td>0.29</td>\n",
       "      <td>0.59</td>\n",
       "      <td>0.39</td>\n",
       "      <td>11226.00</td>\n",
       "    </tr>\n",
       "    <tr>\n",
       "      <th>Paid</th>\n",
       "      <td>0.90</td>\n",
       "      <td>0.70</td>\n",
       "      <td>0.79</td>\n",
       "      <td>56042.00</td>\n",
       "    </tr>\n",
       "    <tr>\n",
       "      <th>accuracy</th>\n",
       "      <td>0.69</td>\n",
       "      <td>0.69</td>\n",
       "      <td>0.69</td>\n",
       "      <td>0.69</td>\n",
       "    </tr>\n",
       "    <tr>\n",
       "      <th>macro avg</th>\n",
       "      <td>0.59</td>\n",
       "      <td>0.65</td>\n",
       "      <td>0.59</td>\n",
       "      <td>67268.00</td>\n",
       "    </tr>\n",
       "    <tr>\n",
       "      <th>weighted avg</th>\n",
       "      <td>0.79</td>\n",
       "      <td>0.69</td>\n",
       "      <td>0.72</td>\n",
       "      <td>67268.00</td>\n",
       "    </tr>\n",
       "  </tbody>\n",
       "</table>\n",
       "</div>"
      ],
      "text/plain": [
       "             precision recall f1-score   support\n",
       "Unpaid            0.29   0.59     0.39  11226.00\n",
       "Paid              0.90   0.70     0.79  56042.00\n",
       "accuracy          0.69   0.69     0.69      0.69\n",
       "macro avg         0.59   0.65     0.59  67268.00\n",
       "weighted avg      0.79   0.69     0.72  67268.00"
      ]
     },
     "execution_count": 250,
     "metadata": {},
     "output_type": "execute_result"
    }
   ],
   "source": [
    "# Get precision, recall, f1-score and support for test dataset\n",
    "pu.classification_report_df(y_test, y_test_pred, target_names=['Unpaid', 'Paid'])"
   ]
  },
  {
   "cell_type": "markdown",
   "metadata": {},
   "source": [
    "### 3.4 Calibration <a class=\"anchor\" id=\"calibration\"></a>"
   ]
  },
  {
   "cell_type": "code",
   "execution_count": 16,
   "metadata": {},
   "outputs": [],
   "source": [
    "# Make predictions (probability)\n",
    "predictions = model.predict_proba(X_test_subset)"
   ]
  },
  {
   "cell_type": "code",
   "execution_count": 77,
   "metadata": {},
   "outputs": [
    {
     "name": "stdout",
     "output_type": "stream",
     "text": [
      "Wall time: 5min 55s\n"
     ]
    },
    {
     "data": {
      "text/plain": [
       "CalibratedClassifierCV(base_estimator=RandomForestClassifier(class_weight='balanced',\n",
       "                                                             max_depth=12,\n",
       "                                                             max_features='sqrt',\n",
       "                                                             min_samples_leaf=5,\n",
       "                                                             min_samples_split=11,\n",
       "                                                             n_estimators=470,\n",
       "                                                             n_jobs=-1,\n",
       "                                                             random_state=13),\n",
       "                       cv=3, n_jobs=-1)"
      ]
     },
     "execution_count": 77,
     "metadata": {},
     "output_type": "execute_result"
    }
   ],
   "source": [
    "%%time\n",
    "\n",
    "# Calibrates the model\n",
    "clf = RandomForestClassifier(class_weight='balanced', max_depth=12,\n",
    "                             max_features='sqrt', min_samples_leaf=5,\n",
    "                             min_samples_split=11, n_estimators=470, n_jobs=-1,\n",
    "                             random_state=13)\n",
    "\n",
    "cal_model = CalibratedClassifierCV(clf, method='sigmoid', cv=3, n_jobs=-1)\n",
    "cal_model.fit(X_train_subset[-300000:], y_train[-300000:])"
   ]
  },
  {
   "cell_type": "code",
   "execution_count": 90,
   "metadata": {},
   "outputs": [],
   "source": [
    "# Make calibrated predictions (probability)\n",
    "cal_predictions = cal_model.predict_proba(X_test_subset)"
   ]
  },
  {
   "cell_type": "code",
   "execution_count": 106,
   "metadata": {},
   "outputs": [
    {
     "data": {
      "image/png": "[encoded data removed]",
      "text/plain": [
       "<Figure size 432x288 with 1 Axes>"
      ]
     },
     "metadata": {
      "needs_background": "light"
     },
     "output_type": "display_data"
    }
   ],
   "source": [
    "# Plot Calibration Curve\n",
    "pu.plot_calibration_curve(y_test, predictions[:, 1], cal_predictions[:, 1], './output/calibration_curve.png')"
   ]
  },
  {
   "cell_type": "markdown",
   "metadata": {},
   "source": [
    "### 3.5 Re-evaluating <a class=\"anchor\" id=\"reeval\"></a>"
   ]
  },
  {
   "cell_type": "code",
   "execution_count": 92,
   "metadata": {},
   "outputs": [
    {
     "name": "stdout",
     "output_type": "stream",
     "text": [
      "Wall time: 47.3 s\n"
     ]
    }
   ],
   "source": [
    "%%time\n",
    "\n",
    "# Classifies the data used in training\n",
    "caly_train_pred = cal_model.predict(X_train_subset[-300000:])\n",
    "\n",
    "# Classifies the test dataset\n",
    "caly_test_pred = cal_model.predict(X_test_subset)"
   ]
  },
  {
   "cell_type": "code",
   "execution_count": 93,
   "metadata": {},
   "outputs": [
    {
     "data": {
      "text/html": [
       "<div>\n",
       "<style scoped>\n",
       "    .dataframe tbody tr th:only-of-type {\n",
       "        vertical-align: middle;\n",
       "    }\n",
       "\n",
       "    .dataframe tbody tr th {\n",
       "        vertical-align: top;\n",
       "    }\n",
       "\n",
       "    .dataframe thead th {\n",
       "        text-align: right;\n",
       "    }\n",
       "</style>\n",
       "<table border=\"1\" class=\"dataframe\">\n",
       "  <thead>\n",
       "    <tr style=\"text-align: right;\">\n",
       "      <th></th>\n",
       "      <th>precision</th>\n",
       "      <th>recall</th>\n",
       "      <th>f1-score</th>\n",
       "      <th>support</th>\n",
       "    </tr>\n",
       "  </thead>\n",
       "  <tbody>\n",
       "    <tr>\n",
       "      <th>Unpaid</th>\n",
       "      <td>0.69</td>\n",
       "      <td>0.14</td>\n",
       "      <td>0.23</td>\n",
       "      <td>72142.00</td>\n",
       "    </tr>\n",
       "    <tr>\n",
       "      <th>Paid</th>\n",
       "      <td>0.78</td>\n",
       "      <td>0.98</td>\n",
       "      <td>0.87</td>\n",
       "      <td>227858.00</td>\n",
       "    </tr>\n",
       "    <tr>\n",
       "      <th>accuracy</th>\n",
       "      <td>0.78</td>\n",
       "      <td>0.78</td>\n",
       "      <td>0.78</td>\n",
       "      <td>0.78</td>\n",
       "    </tr>\n",
       "    <tr>\n",
       "      <th>macro avg</th>\n",
       "      <td>0.74</td>\n",
       "      <td>0.56</td>\n",
       "      <td>0.55</td>\n",
       "      <td>300000.00</td>\n",
       "    </tr>\n",
       "    <tr>\n",
       "      <th>weighted avg</th>\n",
       "      <td>0.76</td>\n",
       "      <td>0.78</td>\n",
       "      <td>0.72</td>\n",
       "      <td>300000.00</td>\n",
       "    </tr>\n",
       "  </tbody>\n",
       "</table>\n",
       "</div>"
      ],
      "text/plain": [
       "             precision recall f1-score    support\n",
       "Unpaid            0.69   0.14     0.23   72142.00\n",
       "Paid              0.78   0.98     0.87  227858.00\n",
       "accuracy          0.78   0.78     0.78       0.78\n",
       "macro avg         0.74   0.56     0.55  300000.00\n",
       "weighted avg      0.76   0.78     0.72  300000.00"
      ]
     },
     "execution_count": 93,
     "metadata": {},
     "output_type": "execute_result"
    }
   ],
   "source": [
    "# Get precision, recall, f1-score and support for train dataset\n",
    "pu.classification_report_df(y_train[-300000:], caly_train_pred, target_names=['Unpaid', 'Paid'])"
   ]
  },
  {
   "cell_type": "code",
   "execution_count": 94,
   "metadata": {},
   "outputs": [
    {
     "data": {
      "text/html": [
       "<div>\n",
       "<style scoped>\n",
       "    .dataframe tbody tr th:only-of-type {\n",
       "        vertical-align: middle;\n",
       "    }\n",
       "\n",
       "    .dataframe tbody tr th {\n",
       "        vertical-align: top;\n",
       "    }\n",
       "\n",
       "    .dataframe thead th {\n",
       "        text-align: right;\n",
       "    }\n",
       "</style>\n",
       "<table border=\"1\" class=\"dataframe\">\n",
       "  <thead>\n",
       "    <tr style=\"text-align: right;\">\n",
       "      <th></th>\n",
       "      <th>precision</th>\n",
       "      <th>recall</th>\n",
       "      <th>f1-score</th>\n",
       "      <th>support</th>\n",
       "    </tr>\n",
       "  </thead>\n",
       "  <tbody>\n",
       "    <tr>\n",
       "      <th>Unpaid</th>\n",
       "      <td>0.42</td>\n",
       "      <td>0.09</td>\n",
       "      <td>0.15</td>\n",
       "      <td>11226.00</td>\n",
       "    </tr>\n",
       "    <tr>\n",
       "      <th>Paid</th>\n",
       "      <td>0.84</td>\n",
       "      <td>0.98</td>\n",
       "      <td>0.90</td>\n",
       "      <td>56042.00</td>\n",
       "    </tr>\n",
       "    <tr>\n",
       "      <th>accuracy</th>\n",
       "      <td>0.83</td>\n",
       "      <td>0.83</td>\n",
       "      <td>0.83</td>\n",
       "      <td>0.83</td>\n",
       "    </tr>\n",
       "    <tr>\n",
       "      <th>macro avg</th>\n",
       "      <td>0.63</td>\n",
       "      <td>0.53</td>\n",
       "      <td>0.53</td>\n",
       "      <td>67268.00</td>\n",
       "    </tr>\n",
       "    <tr>\n",
       "      <th>weighted avg</th>\n",
       "      <td>0.77</td>\n",
       "      <td>0.83</td>\n",
       "      <td>0.78</td>\n",
       "      <td>67268.00</td>\n",
       "    </tr>\n",
       "  </tbody>\n",
       "</table>\n",
       "</div>"
      ],
      "text/plain": [
       "             precision recall f1-score   support\n",
       "Unpaid            0.42   0.09     0.15  11226.00\n",
       "Paid              0.84   0.98     0.90  56042.00\n",
       "accuracy          0.83   0.83     0.83      0.83\n",
       "macro avg         0.63   0.53     0.53  67268.00\n",
       "weighted avg      0.77   0.83     0.78  67268.00"
      ]
     },
     "execution_count": 94,
     "metadata": {},
     "output_type": "execute_result"
    }
   ],
   "source": [
    "# Get precision, recall, f1-score and support for test dataset\n",
    "pu.classification_report_df(y_test, caly_test_pred, target_names=['Unpaid', 'Paid'])"
   ]
  },
  {
   "cell_type": "markdown",
   "metadata": {},
   "source": [
    "### 3.6 Scoring <a class=\"anchor\" id=\"scoring\"></a>"
   ]
  },
  {
   "cell_type": "code",
   "execution_count": 95,
   "metadata": {},
   "outputs": [],
   "source": [
    "# Scoring how likely each loan will be paid - logit\n",
    "scores = pd.Series(map(lambda p: int(round(math.log(p[1] / (1 - p[1])) * 100 + 500, 0)), cal_predictions))"
   ]
  },
  {
   "cell_type": "code",
   "execution_count": 96,
   "metadata": {},
   "outputs": [],
   "source": [
    "# Create and save DataFrame with scores and true values (ground truth)\n",
    "df_scores = pd.concat([scores.reset_index(drop=True).rename('score'),\n",
    "                       y_test.reset_index(drop=True).rename('target')],\n",
    "                       axis=1)\n",
    "\n",
    "df_scores.to_csv('./output/scores.csv', index=False)"
   ]
  },
  {
   "cell_type": "markdown",
   "metadata": {},
   "source": [
    "## 4.0 Metrics <a class=\"anchor\" id=\"metrics\"></a>"
   ]
  },
  {
   "cell_type": "code",
   "execution_count": 105,
   "metadata": {},
   "outputs": [
    {
     "data": {
      "image/png": "[encoded data removed]",
      "text/plain": [
       "<Figure size 432x288 with 1 Axes>"
      ]
     },
     "metadata": {
      "needs_background": "light"
     },
     "output_type": "display_data"
    }
   ],
   "source": [
    "# Plot roc curve and compute auc score\n",
    "pu.plot_roc_curve(y_test, cal_predictions, './output/roc_curve.png')"
   ]
  },
  {
   "cell_type": "code",
   "execution_count": 107,
   "metadata": {},
   "outputs": [
    {
     "data": {
      "text/plain": [
       "'KS is 30.6% at decile 6'"
      ]
     },
     "execution_count": 107,
     "metadata": {},
     "output_type": "execute_result"
    }
   ],
   "source": [
    "# Calculates KS and lift\n",
    "df_ks, ks = pu.get_performance(scores, y_test)\n",
    "\n",
    "# Show KS\n",
    "ks"
   ]
  },
  {
   "cell_type": "code",
   "execution_count": 108,
   "metadata": {},
   "outputs": [
    {
     "data": {
      "text/html": [
       "<div>\n",
       "<style scoped>\n",
       "    .dataframe tbody tr th:only-of-type {\n",
       "        vertical-align: middle;\n",
       "    }\n",
       "\n",
       "    .dataframe tbody tr th {\n",
       "        vertical-align: top;\n",
       "    }\n",
       "\n",
       "    .dataframe thead th {\n",
       "        text-align: right;\n",
       "    }\n",
       "</style>\n",
       "<table border=\"1\" class=\"dataframe\">\n",
       "  <thead>\n",
       "    <tr style=\"text-align: right;\">\n",
       "      <th></th>\n",
       "      <th>min_score</th>\n",
       "      <th>max_score</th>\n",
       "      <th>event</th>\n",
       "      <th>nonevent</th>\n",
       "      <th>dec_pop</th>\n",
       "      <th>dec_eventrate</th>\n",
       "      <th>event_rate</th>\n",
       "      <th>nonevent_rate</th>\n",
       "      <th>cum_eventrate</th>\n",
       "      <th>cum_noneventrate</th>\n",
       "      <th>lift</th>\n",
       "      <th>ks</th>\n",
       "    </tr>\n",
       "    <tr>\n",
       "      <th>decile</th>\n",
       "      <th></th>\n",
       "      <th></th>\n",
       "      <th></th>\n",
       "      <th></th>\n",
       "      <th></th>\n",
       "      <th></th>\n",
       "      <th></th>\n",
       "      <th></th>\n",
       "      <th></th>\n",
       "      <th></th>\n",
       "      <th></th>\n",
       "      <th></th>\n",
       "    </tr>\n",
       "  </thead>\n",
       "  <tbody>\n",
       "    <tr>\n",
       "      <th>1</th>\n",
       "      <td>768</td>\n",
       "      <td>828</td>\n",
       "      <td>6532</td>\n",
       "      <td>171</td>\n",
       "      <td>6703</td>\n",
       "      <td>97.45%</td>\n",
       "      <td>11.66%</td>\n",
       "      <td>1.52%</td>\n",
       "      <td>11.66%</td>\n",
       "      <td>1.52%</td>\n",
       "      <td>1.17</td>\n",
       "      <td>10.1</td>\n",
       "    </tr>\n",
       "    <tr>\n",
       "      <th>2</th>\n",
       "      <td>732</td>\n",
       "      <td>767</td>\n",
       "      <td>6251</td>\n",
       "      <td>392</td>\n",
       "      <td>6643</td>\n",
       "      <td>94.10%</td>\n",
       "      <td>11.15%</td>\n",
       "      <td>3.49%</td>\n",
       "      <td>22.81%</td>\n",
       "      <td>5.02%</td>\n",
       "      <td>1.13</td>\n",
       "      <td>17.8</td>\n",
       "    </tr>\n",
       "    <tr>\n",
       "      <th>3</th>\n",
       "      <td>702</td>\n",
       "      <td>731</td>\n",
       "      <td>6161</td>\n",
       "      <td>556</td>\n",
       "      <td>6717</td>\n",
       "      <td>91.72%</td>\n",
       "      <td>10.99%</td>\n",
       "      <td>4.95%</td>\n",
       "      <td>33.80%</td>\n",
       "      <td>9.97%</td>\n",
       "      <td>1.10</td>\n",
       "      <td>23.8</td>\n",
       "    </tr>\n",
       "    <tr>\n",
       "      <th>4</th>\n",
       "      <td>674</td>\n",
       "      <td>701</td>\n",
       "      <td>5966</td>\n",
       "      <td>731</td>\n",
       "      <td>6697</td>\n",
       "      <td>89.08%</td>\n",
       "      <td>10.65%</td>\n",
       "      <td>6.51%</td>\n",
       "      <td>44.45%</td>\n",
       "      <td>16.48%</td>\n",
       "      <td>1.07</td>\n",
       "      <td>28.0</td>\n",
       "    </tr>\n",
       "    <tr>\n",
       "      <th>5</th>\n",
       "      <td>646</td>\n",
       "      <td>673</td>\n",
       "      <td>5894</td>\n",
       "      <td>960</td>\n",
       "      <td>6854</td>\n",
       "      <td>85.99%</td>\n",
       "      <td>10.52%</td>\n",
       "      <td>8.55%</td>\n",
       "      <td>54.97%</td>\n",
       "      <td>25.03%</td>\n",
       "      <td>1.03</td>\n",
       "      <td>29.9</td>\n",
       "    </tr>\n",
       "    <tr>\n",
       "      <th>6</th>\n",
       "      <td>620</td>\n",
       "      <td>645</td>\n",
       "      <td>5670</td>\n",
       "      <td>1064</td>\n",
       "      <td>6734</td>\n",
       "      <td>84.20%</td>\n",
       "      <td>10.12%</td>\n",
       "      <td>9.48%</td>\n",
       "      <td>65.08%</td>\n",
       "      <td>34.51%</td>\n",
       "      <td>1.01</td>\n",
       "      <td>30.6</td>\n",
       "    </tr>\n",
       "    <tr>\n",
       "      <th>7</th>\n",
       "      <td>595</td>\n",
       "      <td>619</td>\n",
       "      <td>5422</td>\n",
       "      <td>1303</td>\n",
       "      <td>6725</td>\n",
       "      <td>80.62%</td>\n",
       "      <td>9.67%</td>\n",
       "      <td>11.61%</td>\n",
       "      <td>74.76%</td>\n",
       "      <td>46.12%</td>\n",
       "      <td>0.97</td>\n",
       "      <td>28.6</td>\n",
       "    </tr>\n",
       "    <tr>\n",
       "      <th>8</th>\n",
       "      <td>568</td>\n",
       "      <td>594</td>\n",
       "      <td>5052</td>\n",
       "      <td>1602</td>\n",
       "      <td>6654</td>\n",
       "      <td>75.92%</td>\n",
       "      <td>9.01%</td>\n",
       "      <td>14.27%</td>\n",
       "      <td>83.77%</td>\n",
       "      <td>60.39%</td>\n",
       "      <td>0.91</td>\n",
       "      <td>23.4</td>\n",
       "    </tr>\n",
       "    <tr>\n",
       "      <th>9</th>\n",
       "      <td>535</td>\n",
       "      <td>567</td>\n",
       "      <td>4772</td>\n",
       "      <td>1890</td>\n",
       "      <td>6662</td>\n",
       "      <td>71.63%</td>\n",
       "      <td>8.52%</td>\n",
       "      <td>16.84%</td>\n",
       "      <td>92.29%</td>\n",
       "      <td>77.22%</td>\n",
       "      <td>0.86</td>\n",
       "      <td>15.1</td>\n",
       "    </tr>\n",
       "    <tr>\n",
       "      <th>10</th>\n",
       "      <td>427</td>\n",
       "      <td>534</td>\n",
       "      <td>4322</td>\n",
       "      <td>2557</td>\n",
       "      <td>6879</td>\n",
       "      <td>62.83%</td>\n",
       "      <td>7.71%</td>\n",
       "      <td>22.78%</td>\n",
       "      <td>100.00%</td>\n",
       "      <td>100.00%</td>\n",
       "      <td>0.75</td>\n",
       "      <td>0.0</td>\n",
       "    </tr>\n",
       "    <tr>\n",
       "      <th>total</th>\n",
       "      <td>427</td>\n",
       "      <td>828</td>\n",
       "      <td>56042</td>\n",
       "      <td>11226</td>\n",
       "      <td>67268</td>\n",
       "      <td>83.31%</td>\n",
       "      <td>100.00%</td>\n",
       "      <td>100.00%</td>\n",
       "      <td>100.00%</td>\n",
       "      <td>100.00%</td>\n",
       "      <td>1.00</td>\n",
       "      <td>30.6</td>\n",
       "    </tr>\n",
       "  </tbody>\n",
       "</table>\n",
       "</div>"
      ],
      "text/plain": [
       "        min_score  max_score  event  nonevent  dec_pop dec_eventrate  \\\n",
       "decile                                                                 \n",
       "1             768        828   6532       171     6703        97.45%   \n",
       "2             732        767   6251       392     6643        94.10%   \n",
       "3             702        731   6161       556     6717        91.72%   \n",
       "4             674        701   5966       731     6697        89.08%   \n",
       "5             646        673   5894       960     6854        85.99%   \n",
       "6             620        645   5670      1064     6734        84.20%   \n",
       "7             595        619   5422      1303     6725        80.62%   \n",
       "8             568        594   5052      1602     6654        75.92%   \n",
       "9             535        567   4772      1890     6662        71.63%   \n",
       "10            427        534   4322      2557     6879        62.83%   \n",
       "total         427        828  56042     11226    67268        83.31%   \n",
       "\n",
       "       event_rate nonevent_rate cum_eventrate cum_noneventrate  lift    ks  \n",
       "decile                                                                      \n",
       "1          11.66%         1.52%        11.66%            1.52%  1.17  10.1  \n",
       "2          11.15%         3.49%        22.81%            5.02%  1.13  17.8  \n",
       "3          10.99%         4.95%        33.80%            9.97%  1.10  23.8  \n",
       "4          10.65%         6.51%        44.45%           16.48%  1.07  28.0  \n",
       "5          10.52%         8.55%        54.97%           25.03%  1.03  29.9  \n",
       "6          10.12%         9.48%        65.08%           34.51%  1.01  30.6  \n",
       "7           9.67%        11.61%        74.76%           46.12%  0.97  28.6  \n",
       "8           9.01%        14.27%        83.77%           60.39%  0.91  23.4  \n",
       "9           8.52%        16.84%        92.29%           77.22%  0.86  15.1  \n",
       "10          7.71%        22.78%       100.00%          100.00%  0.75   0.0  \n",
       "total     100.00%       100.00%       100.00%          100.00%  1.00  30.6  "
      ]
     },
     "execution_count": 108,
     "metadata": {},
     "output_type": "execute_result"
    }
   ],
   "source": [
    "# Save performance dataframe\n",
    "df_ks.to_csv('./output/ks_report.csv', index=False)\n",
    "\n",
    "# Show performance dataframe\n",
    "df_ks"
   ]
  },
  {
   "cell_type": "code",
   "execution_count": 109,
   "metadata": {},
   "outputs": [
    {
     "data": {
      "image/png": "[encoded data removed]",
      "text/plain": [
       "<Figure size 432x288 with 1 Axes>"
      ]
     },
     "metadata": {
      "needs_background": "light"
     },
     "output_type": "display_data"
    }
   ],
   "source": [
    "# Plot and save KS Chart\n",
    "pu.plot_ks(df_ks, './output/ks_chart.png')"
   ]
  },
  {
   "cell_type": "markdown",
   "metadata": {},
   "source": [
    "### 4.1 Interpretability <a class=\"anchor\" id=\"shap\"></a>"
   ]
  },
  {
   "cell_type": "code",
   "execution_count": 159,
   "metadata": {},
   "outputs": [
    {
     "name": "stderr",
     "output_type": "stream",
     "text": [
      "100%|█████████████████████████████████████████████████████████████████████████| 67268/67268 [20:16:32<00:00,  1.09s/it]\n"
     ]
    },
    {
     "name": "stdout",
     "output_type": "stream",
     "text": [
      "Wall time: 20h 17min 11s\n"
     ]
    }
   ],
   "source": [
    "%%time\n",
    "\n",
    "# Compute SHAP values\n",
    "data = shap.kmeans(X_train_subset[-300000:], 10)\n",
    "\n",
    "explainer = shap.KernelExplainer(cal_model.predict_proba, data, link='logit')\n",
    "shap_values = explainer.shap_values(X_test_subset, nsamples=100, l1_reg='num_features(10)')"
   ]
  },
  {
   "cell_type": "code",
   "execution_count": 161,
   "metadata": {},
   "outputs": [
    {
     "data": {
      "image/png": "[encoded data removed]",
      "text/plain": [
       "<Figure size 576x684 with 1 Axes>"
      ]
     },
     "metadata": {
      "needs_background": "light"
     },
     "output_type": "display_data"
    }
   ],
   "source": [
    "# Feature importance chart\n",
    "f = plt.figure()\n",
    "\n",
    "shap.summary_plot(shap_values[1], X_test_subset, plot_type='bar')\n",
    "\n",
    "f.savefig('./output/feat_importance.png', bbox_inches='tight', dpi=600)"
   ]
  },
  {
   "cell_type": "markdown",
   "metadata": {},
   "source": [
    "SHAP feature importance measured as the mean absolute Shapley values. The interest rates was the most important feature, changing the predicted loan payment probability on average by 45 log-odds units.\n",
    "\n",
    "\"SHAP is based on magnitude of feature attributions\"."
   ]
  },
  {
   "cell_type": "code",
   "execution_count": 164,
   "metadata": {},
   "outputs": [
    {
     "data": {
      "image/png": "[encoded data removed]",
      "text/plain": [
       "<Figure size 576x684 with 2 Axes>"
      ]
     },
     "metadata": {
      "needs_background": "light"
     },
     "output_type": "display_data"
    }
   ],
   "source": [
    "# Plot and save SHAP summary chart\n",
    "f = plt.figure()\n",
    "\n",
    "shap.summary_plot(shap_values[1], X_test_subset)\n",
    "\n",
    "f.savefig('./output/summary_plot.png', bbox_inches='tight', dpi=600)"
   ]
  },
  {
   "cell_type": "code",
   "execution_count": 165,
   "metadata": {},
   "outputs": [
    {
     "data": {
      "text/html": [
       "<div>\n",
       "<style scoped>\n",
       "    .dataframe tbody tr th:only-of-type {\n",
       "        vertical-align: middle;\n",
       "    }\n",
       "\n",
       "    .dataframe tbody tr th {\n",
       "        vertical-align: top;\n",
       "    }\n",
       "\n",
       "    .dataframe thead th {\n",
       "        text-align: right;\n",
       "    }\n",
       "</style>\n",
       "<table border=\"1\" class=\"dataframe\">\n",
       "  <thead>\n",
       "    <tr style=\"text-align: right;\">\n",
       "      <th></th>\n",
       "      <th>feature_name</th>\n",
       "      <th>feature_importance_value</th>\n",
       "    </tr>\n",
       "  </thead>\n",
       "  <tbody>\n",
       "    <tr>\n",
       "      <th>1</th>\n",
       "      <td>int_rate</td>\n",
       "      <td>0.451464</td>\n",
       "    </tr>\n",
       "    <tr>\n",
       "      <th>2</th>\n",
       "      <td>fico_range_low</td>\n",
       "      <td>0.109420</td>\n",
       "    </tr>\n",
       "    <tr>\n",
       "      <th>3</th>\n",
       "      <td>loan_amnt</td>\n",
       "      <td>0.103989</td>\n",
       "    </tr>\n",
       "    <tr>\n",
       "      <th>4</th>\n",
       "      <td>dti</td>\n",
       "      <td>0.103448</td>\n",
       "    </tr>\n",
       "    <tr>\n",
       "      <th>5</th>\n",
       "      <td>avg_cur_bal</td>\n",
       "      <td>0.079390</td>\n",
       "    </tr>\n",
       "    <tr>\n",
       "      <th>6</th>\n",
       "      <td>mort_acc</td>\n",
       "      <td>0.062176</td>\n",
       "    </tr>\n",
       "    <tr>\n",
       "      <th>7</th>\n",
       "      <td>term</td>\n",
       "      <td>0.053397</td>\n",
       "    </tr>\n",
       "    <tr>\n",
       "      <th>8</th>\n",
       "      <td>num_actv_rev_tl</td>\n",
       "      <td>0.049062</td>\n",
       "    </tr>\n",
       "    <tr>\n",
       "      <th>9</th>\n",
       "      <td>bc_open_to_buy</td>\n",
       "      <td>0.048458</td>\n",
       "    </tr>\n",
       "    <tr>\n",
       "      <th>10</th>\n",
       "      <td>tot_cur_bal</td>\n",
       "      <td>0.043537</td>\n",
       "    </tr>\n",
       "    <tr>\n",
       "      <th>11</th>\n",
       "      <td>revol_util</td>\n",
       "      <td>0.022223</td>\n",
       "    </tr>\n",
       "    <tr>\n",
       "      <th>12</th>\n",
       "      <td>inq_last_6mths</td>\n",
       "      <td>0.021434</td>\n",
       "    </tr>\n",
       "    <tr>\n",
       "      <th>13</th>\n",
       "      <td>mths_since_recent_bc</td>\n",
       "      <td>0.017107</td>\n",
       "    </tr>\n",
       "    <tr>\n",
       "      <th>14</th>\n",
       "      <td>annual_inc</td>\n",
       "      <td>0.016714</td>\n",
       "    </tr>\n",
       "    <tr>\n",
       "      <th>15</th>\n",
       "      <td>total_bc_limit</td>\n",
       "      <td>0.013743</td>\n",
       "    </tr>\n",
       "    <tr>\n",
       "      <th>16</th>\n",
       "      <td>total_rev_hi_lim</td>\n",
       "      <td>0.012376</td>\n",
       "    </tr>\n",
       "    <tr>\n",
       "      <th>17</th>\n",
       "      <td>mo_sin_old_rev_tl_op</td>\n",
       "      <td>0.010425</td>\n",
       "    </tr>\n",
       "    <tr>\n",
       "      <th>18</th>\n",
       "      <td>bc_util</td>\n",
       "      <td>0.009707</td>\n",
       "    </tr>\n",
       "    <tr>\n",
       "      <th>19</th>\n",
       "      <td>num_il_tl</td>\n",
       "      <td>0.006563</td>\n",
       "    </tr>\n",
       "    <tr>\n",
       "      <th>20</th>\n",
       "      <td>mo_sin_old_il_acct</td>\n",
       "      <td>0.005472</td>\n",
       "    </tr>\n",
       "    <tr>\n",
       "      <th>21</th>\n",
       "      <td>total_acc</td>\n",
       "      <td>0.004767</td>\n",
       "    </tr>\n",
       "    <tr>\n",
       "      <th>22</th>\n",
       "      <td>mths_since_earliest_cr_line</td>\n",
       "      <td>0.002443</td>\n",
       "    </tr>\n",
       "  </tbody>\n",
       "</table>\n",
       "</div>"
      ],
      "text/plain": [
       "                   feature_name  feature_importance_value\n",
       "1                      int_rate                  0.451464\n",
       "2                fico_range_low                  0.109420\n",
       "3                     loan_amnt                  0.103989\n",
       "4                           dti                  0.103448\n",
       "5                   avg_cur_bal                  0.079390\n",
       "6                      mort_acc                  0.062176\n",
       "7                          term                  0.053397\n",
       "8               num_actv_rev_tl                  0.049062\n",
       "9                bc_open_to_buy                  0.048458\n",
       "10                  tot_cur_bal                  0.043537\n",
       "11                   revol_util                  0.022223\n",
       "12               inq_last_6mths                  0.021434\n",
       "13         mths_since_recent_bc                  0.017107\n",
       "14                   annual_inc                  0.016714\n",
       "15               total_bc_limit                  0.013743\n",
       "16             total_rev_hi_lim                  0.012376\n",
       "17         mo_sin_old_rev_tl_op                  0.010425\n",
       "18                      bc_util                  0.009707\n",
       "19                    num_il_tl                  0.006563\n",
       "20           mo_sin_old_il_acct                  0.005472\n",
       "21                    total_acc                  0.004767\n",
       "22  mths_since_earliest_cr_line                  0.002443"
      ]
     },
     "execution_count": 165,
     "metadata": {},
     "output_type": "execute_result"
    }
   ],
   "source": [
    "# Calcs feature importance\n",
    "df_shap = pu.shap_feature_importance(X_test_subset, shap_values)\n",
    "\n",
    "# Save\n",
    "df_shap.to_csv('./output/feat_importance.csv', index=False)\n",
    "\n",
    "# Show\n",
    "df_shap"
   ]
  },
  {
   "cell_type": "markdown",
   "metadata": {},
   "source": [
    "# Output <a class=\"anchor\" id=\"model_output\"></a>"
   ]
  },
  {
   "cell_type": "code",
   "execution_count": 163,
   "metadata": {},
   "outputs": [],
   "source": [
    "# Save model as pickle\n",
    "with open('./output/rf_model_pkl.sav', 'wb') as file:\n",
    "    pickle.dump(model, file)\n",
    "    \n",
    "# Save encoder as pickle\n",
    "with open('./output/tg_encoder_pkl.sav', 'wb') as file:\n",
    "    pickle.dump(encoder, file)"
   ]
  },
  {
   "cell_type": "code",
   "execution_count": null,
   "metadata": {},
   "outputs": [],
   "source": []
  }
 ],
 "metadata": {
  "kernelspec": {
   "display_name": "p2p",
   "language": "python",
   "name": "p2p"
  },
  "language_info": {
   "codemirror_mode": {
    "name": "ipython",
    "version": 3
   },
   "file_extension": ".py",
   "mimetype": "text/x-python",
   "name": "python",
   "nbconvert_exporter": "python",
   "pygments_lexer": "ipython3",
   "version": "3.7.13"
  }
 },
 "nbformat": 4,
 "nbformat_minor": 4
}
